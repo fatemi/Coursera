{
 "metadata": {
  "name": "",
  "signature": "sha256:060c2fb5c906aa2e22538edeada2c586e3756e91b5b5fcb2f698cb542672ecc8"
 },
 "nbformat": 3,
 "nbformat_minor": 0,
 "worksheets": [
  {
   "cells": [
    {
     "cell_type": "code",
     "collapsed": false,
     "input": [
      "import networkx as nx\n",
      "import numpy as np\n",
      "from matplotlib.pyplot import *\n",
      "\n",
      "# Making a graph:\n",
      "G = nx.Graph()\n",
      "\n",
      "# nodes:\n",
      "nodes = np.arange(1,16) # only 15 nodes, ignoring pucci\n",
      "G.add_nodes_from(nodes)\n",
      "G.node[1]['name'] = 'CASTELLAN'\n",
      "G.node[2]['name'] = 'PERUZZI'\n",
      "G.node[3]['name'] = 'STROZZI'\n",
      "G.node[4]['name'] = 'BECHERI'\n",
      "G.node[5]['name'] = 'GUADAGNI'\n",
      "G.node[6]['name'] = 'LAMBERTES'\n",
      "G.node[7]['name'] = 'RIDOLFI'\n",
      "G.node[8]['name'] = 'BARBADORI'\n",
      "G.node[9]['name'] = 'TORNABUON'\n",
      "G.node[10]['name'] = 'MEDICI'\n",
      "G.node[11]['name'] = 'SALVIATI'\n",
      "G.node[12]['name'] = 'PAZZI'\n",
      "G.node[13]['name'] = 'ACCAUOL'\n",
      "G.node[14]['name'] = 'ALBIZZI'\n",
      "G.node[15]['name'] = 'GINORI'\n",
      "\n",
      "# edges:\n",
      "edge_list = [(1,2),\n",
      "         (1,3),\n",
      "         (1,8),\n",
      "         (2,3),\n",
      "         (2,4),\n",
      "         (3,4),\n",
      "         (3,7),\n",
      "         (4,5),\n",
      "         (5,6),\n",
      "         (5,9),\n",
      "         (5,14),\n",
      "         (7,9),\n",
      "         (7,10),\n",
      "         (8,10),\n",
      "         (9,10),\n",
      "         (10,11),\n",
      "         (10,13),\n",
      "         (10,14),\n",
      "         (11,12),\n",
      "         (14,15)]\n",
      "\n",
      "G.add_edges_from(edge_list)\n",
      "\n",
      "print(nx.info(G))\n",
      "print('diameter = ', nx.diameter(G))\n",
      "\n"
     ],
     "language": "python",
     "metadata": {},
     "outputs": [
      {
       "output_type": "stream",
       "stream": "stdout",
       "text": [
        "Name: \n",
        "Type: Graph\n",
        "Number of nodes: 15\n",
        "Number of edges: 20\n",
        "Average degree:   2.6667\n",
        "diameter =  5\n"
       ]
      }
     ],
     "prompt_number": 49
    },
    {
     "cell_type": "code",
     "collapsed": false,
     "input": [
      "nx.diameter(G)"
     ],
     "language": "python",
     "metadata": {},
     "outputs": [
      {
       "metadata": {},
       "output_type": "pyout",
       "prompt_number": 43,
       "text": [
        "5"
       ]
      }
     ],
     "prompt_number": 43
    },
    {
     "cell_type": "code",
     "collapsed": false,
     "input": [
      "import os\n",
      "os.chdir('/Users/mehdifatemi/Dropbox/Python/NetworkX/Coursera/')\n",
      "G = nx.read_gml('26KeroGephiFileClean.gml')\n",
      "print(nx.info(G))\n",
      "\n",
      "ccv = nx.clustering(G.to_undirected())  # for clustering, G should be treated as an undirected graph\n",
      "# sorting cvv (assending)\n",
      "v = sorted(ccv.values())\n",
      "\n",
      "# removing all the zero clustering coefficients\n",
      "# at each iteration if v[0] is zero, it will be deleted, till reaching the first non-zero element\n",
      "while v[0]==0: del(v[0])\n",
      "    \n",
      "print('minimum clust. coef. = ', min(v))\n",
      "print('maximum clust. coef. = ', max(v))"
     ],
     "language": "python",
     "metadata": {},
     "outputs": [
      {
       "output_type": "stream",
       "stream": "stdout",
       "text": [
        "Name: \n",
        "Type: DiGraph\n",
        "Number of nodes: 135\n",
        "Number of edges: 636\n",
        "Average in degree:   4.7111\n",
        "Average out degree:   4.7111\n",
        "minimum clust. coef. =  0.09523809523809523\n",
        "maximum clust. coef. =  1.0\n"
       ]
      }
     ],
     "prompt_number": 48
    },
    {
     "cell_type": "code",
     "collapsed": false,
     "input": [],
     "language": "python",
     "metadata": {},
     "outputs": []
    }
   ],
   "metadata": {}
  }
 ]
}